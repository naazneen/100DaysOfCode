{
 "cells": [
  {
   "cell_type": "markdown",
   "metadata": {},
   "source": [
    "# Ternary Search Algorithm"
   ]
  },
  {
   "cell_type": "code",
   "execution_count": 1,
   "metadata": {},
   "outputs": [
    {
     "name": "stdout",
     "output_type": "stream",
     "text": [
      "Index of 5 is 4\n",
      "Index of 50 is -1\n"
     ]
    }
   ],
   "source": [
    "\n",
    "import math as mt \n",
    "\n",
    " \n",
    "def ternarySearch(l, r, key, ar): \n",
    "\n",
    "    if (r >= l): \n",
    "\n",
    " \n",
    "        mid1 = l + (r - l) //3\n",
    "        mid2 = r - (r - l) //3\n",
    "\n",
    " \n",
    "        if (ar[mid1] == key): \n",
    "            return mid1 \n",
    "\n",
    "        if (ar[mid2] == key): \n",
    "            return mid2 \n",
    "\n",
    "        if (key < ar[mid1]): \n",
    "            return ternarySearch(l, mid1 - 1, key, ar) \n",
    "\n",
    "        elif (key > ar[mid2]): \n",
    "\n",
    "\n",
    "            return ternarySearch(mid2 + 1, r, key, ar) \n",
    "        else: \n",
    "\n",
    "            return ternarySearch(mid1 + 1, mid2 - 1, key, ar) \n",
    "\n",
    "    return -1\n",
    "\n",
    "# Driver code \n",
    "l, r, p = 0, 9, 5\n",
    "\n",
    "# Get the array \n",
    "# Sort the array if not sorted \n",
    "ar = [ 1, 2, 3, 4, 5, 6, 7, 8, 9, 10 ] \n",
    "\n",
    "# Starting index \n",
    "l = 0\n",
    "\n",
    "# length of array \n",
    "r = 9\n",
    "\n",
    "# Checking for 5 \n",
    "\n",
    "# Key to be searched in the array \n",
    "key = 5\n",
    "\n",
    "# Search the key using ternarySearch \n",
    "p = ternarySearch(l, r, key, ar) \n",
    "\n",
    "# Print the result \n",
    "print(\"Index of\", key, \"is\", p) \n",
    "\n",
    "# Checking for 50 \n",
    "\n",
    "# Key to be searched in the array \n",
    "key = 50\n",
    "\n",
    "# Search the key using ternarySearch \n",
    "p = ternarySearch(l, r, key, ar) \n",
    "\n",
    "# Print the result \n",
    "print(\"Index of\", key, \"is\", p) \n",
    "\n",
    "# This code is contributed by \n",
    "# Mohit kumar 29 \n"
   ]
  },
  {
   "cell_type": "code",
   "execution_count": null,
   "metadata": {},
   "outputs": [],
   "source": []
  }
 ],
 "metadata": {
  "kernelspec": {
   "display_name": "Python 3",
   "language": "python",
   "name": "python3"
  },
  "language_info": {
   "codemirror_mode": {
    "name": "ipython",
    "version": 3
   },
   "file_extension": ".py",
   "mimetype": "text/x-python",
   "name": "python",
   "nbconvert_exporter": "python",
   "pygments_lexer": "ipython3",
   "version": "3.7.3"
  }
 },
 "nbformat": 4,
 "nbformat_minor": 2
}
