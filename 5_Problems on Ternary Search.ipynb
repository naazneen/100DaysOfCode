{
 "cells": [
  {
   "cell_type": "markdown",
   "metadata": {},
   "source": [
    "# Problems on Ternary Search"
   ]
  },
  {
   "cell_type": "markdown",
   "metadata": {},
   "source": [
    "Q:1 The exam\n",
    "Kate is wizard. Now she should pass the exam.\n",
    "\n",
    "During the exam she have to go into the magic room N times. Initially there are X magic items in the room. Before each visit she can use magic to decrease the number of magic items in the room. For each item she spends 1 mana point to destroy it. After each visit the number of magic items increases by 2 times. She can't go into room if there are more than L magic items in it. What minimum mana points does Kate need to pass the exam?\n",
    "\n",
    "You need to solve this problem for several test cases.\n",
    "\n",
    "\n",
    "The first line of input contains single integer T (1<=T<=10^5) - a number of test cases.\n",
    "\n",
    "Then follow T lines. The i-th of these lines contains three integers Xi, Li and Ni (0<=Xi,Li,Ni<=10^18) ."
   ]
  },
  {
   "cell_type": "code",
   "execution_count": 2,
   "metadata": {},
   "outputs": [
    {
     "name": "stdout",
     "output_type": "stream",
     "text": [
      "2\n",
      "12 2 3\n",
      "0\n",
      "1 3 4\n",
      "1\n"
     ]
    }
   ],
   "source": [
    "T = int(input())\n",
    "for t in range(T):\n",
    "    manapt=0\n",
    "    x,l,n = input().split()\n",
    "    x,l,n = [int(x),int(l),int(n)]\n",
    "    if(n==0 or x==0 or l==0):\n",
    "        manapt=0\n",
    "    elif(n==1):\n",
    "        if(x<=l):\n",
    "            manapt=0\n",
    "        else:\n",
    "            manapt=abs(l-x)\n",
    "       \n",
    "    else:\n",
    "        while x<=l:\n",
    "            x=x-1\n",
    "            x = x+2\n",
    "            manapt=abs(l-x)\n",
    "    print (manapt)  "
   ]
  },
  {
   "cell_type": "code",
   "execution_count": null,
   "metadata": {},
   "outputs": [],
   "source": []
  }
 ],
 "metadata": {
  "kernelspec": {
   "display_name": "Python 3",
   "language": "python",
   "name": "python3"
  },
  "language_info": {
   "codemirror_mode": {
    "name": "ipython",
    "version": 3
   },
   "file_extension": ".py",
   "mimetype": "text/x-python",
   "name": "python",
   "nbconvert_exporter": "python",
   "pygments_lexer": "ipython3",
   "version": "3.7.3"
  }
 },
 "nbformat": 4,
 "nbformat_minor": 2
}
