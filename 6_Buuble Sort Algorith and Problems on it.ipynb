{
 "cells": [
  {
   "cell_type": "markdown",
   "metadata": {},
   "source": [
    "# Bubble Sort Algorithm"
   ]
  },
  {
   "cell_type": "code",
   "execution_count": 1,
   "metadata": {},
   "outputs": [
    {
     "name": "stdout",
     "output_type": "stream",
     "text": [
      "4\n",
      "6 0 3 7\n",
      "[0, 3, 6, 7]\n"
     ]
    }
   ],
   "source": [
    "N = int(input())\n",
    "A=[int(i) for i in (input().split(' '))]\n",
    "for k in range (N-1):\n",
    "    for i in range(0,N-k-1):\n",
    "        if A[i]>A[i+1]:\n",
    "            A[i],A[i+1] = A[i+1],A[i]\n",
    "            \n",
    "print (A)"
   ]
  },
  {
   "cell_type": "markdown",
   "metadata": {},
   "source": [
    "# Problems"
   ]
  },
  {
   "cell_type": "markdown",
   "metadata": {},
   "source": [
    "Q:1 A new deadly virus has infected large population of a planet. A brilliant scientist has discovered a new strain of virus which can cure this disease. Vaccine produced from this virus has various strength depending on midichlorians count. A person is cured only if midichlorians count in vaccine batch is more than midichlorians count of person. A doctor receives a new set of report which contains midichlorians count of each infected patient, Practo stores all vaccine doctor has and their midichlorians count. You need to determine if doctor can save all patients with the vaccines he has. The number of vaccines and patients are equal.\n",
    "\n",
    "Input Format\n",
    "\n",
    "First line contains the number of vaccines - N. Second line contains N integers, which are strength of vaccines. Third line contains N integers, which are midichlorians count of patients."
   ]
  },
  {
   "cell_type": "code",
   "execution_count": 2,
   "metadata": {},
   "outputs": [
    {
     "name": "stdout",
     "output_type": "stream",
     "text": [
      "3\n",
      "34 56 12\n",
      "30 7 10\n",
      "Yes\n"
     ]
    }
   ],
   "source": [
    "N = int(input())\n",
    "V = [int(i) for i in (input().split(' '))]\n",
    "P = [int(i) for i in (input().split(' '))]\n",
    "V.sort()\n",
    "P.sort()\n",
    "ans=\"Yes\"\n",
    "for i in range(N):\n",
    "    if V[i]<=P[i]:\n",
    "        ans=\"No\"\n",
    "\n",
    "print (ans)"
   ]
  },
  {
   "cell_type": "markdown",
   "metadata": {},
   "source": [
    "Q:2 You are given an array A of non-negative integers of size m. Your task is to sort the array in non-decreasing order and print out the original indices of the new sorted array.\n",
    "\n",
    "Example:\n",
    "\n",
    "A={4,5,3,7,1}\n",
    "\n",
    "After sorting the new array becomes A={1,3,4,5,7}.\n",
    "\n",
    "The required output should be \"4 2 0 1 3\"   \n",
    "\n",
    "INPUT :\n",
    "\n",
    "The first line of input consists of the size of the array\n",
    "\n",
    "The next line consists of the array of size m"
   ]
  },
  {
   "cell_type": "code",
   "execution_count": 13,
   "metadata": {},
   "outputs": [
    {
     "name": "stdout",
     "output_type": "stream",
     "text": [
      "5\n",
      "4 5 3 7 1\n",
      "4 2 0 1 3 "
     ]
    }
   ],
   "source": [
    "N = int(input())\n",
    "A = [int(i) for i in (input().split(' '))]\n",
    "B = [i for i in A]\n",
    "A.sort()\n",
    "indexes = []\n",
    "for i in range (N):\n",
    "    x = A[i]\n",
    "    indexes.append(B.index(x))\n",
    "\n",
    "for i in indexes:\n",
    "    print (i,end=\" \")"
   ]
  },
  {
   "cell_type": "code",
   "execution_count": 12,
   "metadata": {},
   "outputs": [
    {
     "name": "stdout",
     "output_type": "stream",
     "text": [
      "5\n",
      "4 5 3 7 1\n",
      "4 2 0 1 3 "
     ]
    }
   ],
   "source": [
    "# Alterrnate Solution\n",
    "import sys\n",
    "from operator import itemgetter\n",
    "N = int(input())\n",
    "A = [int(i) for i in (input().split(' '))]\n",
    "B = [i for i in A]\n",
    "#A.sort()\n",
    "indexes = []\n",
    "for i in range (N):\n",
    "    A[i]=[A[i],i]\n",
    "\n",
    "    #indexes.append(B.index(x))\n",
    "A = sorted(A, key=itemgetter(0))\n",
    "for i in A:\n",
    "    print (i[1],end=\" \")"
   ]
  }
 ],
 "metadata": {
  "kernelspec": {
   "display_name": "Python 3",
   "language": "python",
   "name": "python3"
  },
  "language_info": {
   "codemirror_mode": {
    "name": "ipython",
    "version": 3
   },
   "file_extension": ".py",
   "mimetype": "text/x-python",
   "name": "python",
   "nbconvert_exporter": "python",
   "pygments_lexer": "ipython3",
   "version": "3.7.3"
  }
 },
 "nbformat": 4,
 "nbformat_minor": 2
}
