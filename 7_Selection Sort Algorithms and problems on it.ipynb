{
 "cells": [
  {
   "cell_type": "markdown",
   "metadata": {},
   "source": [
    "# Selection Sort Algorithm"
   ]
  },
  {
   "cell_type": "code",
   "execution_count": 1,
   "metadata": {},
   "outputs": [
    {
     "name": "stdout",
     "output_type": "stream",
     "text": [
      "Sorted array\n",
      "11 12 22 25 64 "
     ]
    }
   ],
   "source": [
    "A = [64, 25, 12, 22, 11] \n",
    " \n",
    "for i in range(len(A)): \n",
    "    min_idx = i \n",
    "    for j in range(i+1, len(A)): \n",
    "        if A[min_idx] > A[j]: \n",
    "            min_idx = j \n",
    "# Swap the found minimum element with the first element\n",
    "    A[i], A[min_idx] = A[min_idx], A[i] \n",
    " \n",
    "print (\"Sorted array\") \n",
    "for i in range(len(A)): \n",
    "    print(\"%d\" %A[i],end=\" \") \n"
   ]
  },
  {
   "cell_type": "markdown",
   "metadata": {},
   "source": [
    "# Problems on Selection Sort"
   ]
  },
  {
   "cell_type": "markdown",
   "metadata": {},
   "source": [
    "Q:1 Consider an Array a of size N\n",
    "Iterate from 1 to N\n",
    "In ith iteration select the ith minimum and swap it with a[i]\n",
    "You are given an array a, size of the array N and an integer x. Follow the above algorithm and print the state of the array after x iterations have been performed.\n",
    "\n",
    "Input Format\n",
    "\n",
    "The first line contains two integer N and x denoting the size of the array and the steps of the above algorithm to be performed respectively. The next line contains N space separated integers denoting the elements of the array."
   ]
  },
  {
   "cell_type": "code",
   "execution_count": 2,
   "metadata": {},
   "outputs": [
    {
     "name": "stdout",
     "output_type": "stream",
     "text": [
      "5 3\n",
      "8 5 2 4 6\n",
      "2 4 5 8 6 "
     ]
    }
   ],
   "source": [
    "input1 = input().split(' ')\n",
    "n = int(input1[0])\n",
    "x = int(input1[1])\n",
    "A=[int(i) for i in (input().split(' '))]\n",
    " \n",
    "for i in range(x): \n",
    "    min_idx = i \n",
    "    for j in range(i+1, len(A)): \n",
    "        if A[min_idx] > A[j]: \n",
    "            min_idx = j \n",
    "    A[i], A[min_idx] = A[min_idx], A[i] \n",
    "\n",
    "for i in range(len(A)): \n",
    "    print(\"%d\" %A[i],end=\" \") \n"
   ]
  },
  {
   "cell_type": "code",
   "execution_count": null,
   "metadata": {},
   "outputs": [],
   "source": []
  }
 ],
 "metadata": {
  "kernelspec": {
   "display_name": "Python 3",
   "language": "python",
   "name": "python3"
  },
  "language_info": {
   "codemirror_mode": {
    "name": "ipython",
    "version": 3
   },
   "file_extension": ".py",
   "mimetype": "text/x-python",
   "name": "python",
   "nbconvert_exporter": "python",
   "pygments_lexer": "ipython3",
   "version": "3.7.3"
  }
 },
 "nbformat": 4,
 "nbformat_minor": 2
}
