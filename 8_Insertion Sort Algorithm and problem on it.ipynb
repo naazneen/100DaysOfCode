{
 "cells": [
  {
   "cell_type": "markdown",
   "metadata": {},
   "source": [
    "# Insertion Sort Algorithm"
   ]
  },
  {
   "cell_type": "code",
   "execution_count": 6,
   "metadata": {},
   "outputs": [
    {
     "name": "stdout",
     "output_type": "stream",
     "text": [
      "3 2 1\n",
      "1 2 3 "
     ]
    }
   ],
   "source": [
    "arr= [int(i) for i in (input().split(' '))]\n",
    "def insertionSort(A):  \n",
    "    for i in range(1,len(A)): \n",
    "  \n",
    "        key = A[i] \n",
    "  \n",
    "        j = i-1\n",
    "        while j >=0 and key < A[j] : \n",
    "                A[j+1] = A[j] \n",
    "                j -= 1\n",
    "        A[j+1] = key \n",
    "\n",
    "insertionSort(arr)\n",
    "for i in arr:\n",
    "    print (i,end=\" \")\n",
    "    "
   ]
  },
  {
   "cell_type": "markdown",
   "metadata": {},
   "source": [
    "# Problems on insertion Sort"
   ]
  },
  {
   "cell_type": "markdown",
   "metadata": {},
   "source": [
    "Q:1 Bangalore City, where peace prevails most of the time. Not everyone is a huge fan of peace, though. Certainly not Mr. XYZ, whose identity is not known to us - yet. Mr. XYZ has somehow managed to bring vampires and zombies to Bangalore City to attack and destroy the city.\n",
    "\n",
    "Fatal Eagle, an ordinary citizen of the city is extremely worried on seeing his city being attacked by these weird creatures. But, as of now, he has no power to stop these creatures from their silent attacks. He wants to analyze these creatures firstly. He figured out some things about these creatures, like:\n",
    "\n",
    "Zombies have power in terms of an EVEN number.\n",
    "Vampires have power in terms of an ODD number.\n",
    "If he sees a zombie or a vampire, he marks them in his list with their power. After generating the entire list of power of these creatures, he decides to arrange this data in the following manner:\n",
    "\n",
    "All the zombies arranged in sorted manner of their power, followed by the total power of zombies.\n",
    "All the vampires arranged in sorted manner of their power, followed by the total power of vampires.\n",
    "You've to help him produce the following list to help him save his city."
   ]
  },
  {
   "cell_type": "code",
   "execution_count": 7,
   "metadata": {},
   "outputs": [
    {
     "name": "stdout",
     "output_type": "stream",
     "text": [
      "5\n",
      "32 45 21 6 42\n",
      "6 32 42 80 21 45 66 "
     ]
    }
   ],
   "source": [
    "n = int(input())\n",
    "arr = [int(i) for i in (input().split(' '))]\n",
    "l1=[]\n",
    "l2=[]\n",
    "l2sum = l1sum = 0\n",
    "for i in arr:\n",
    "    if i % 2 ==0:\n",
    "        l2.append(i)\n",
    "        l2sum += i\n",
    "    else:\n",
    "        l1.append(i)\n",
    "        l1sum += i\n",
    "l2.append(l2sum)\n",
    "l1.append(l1sum)\n",
    "l1,l2 = sorted(l1),sorted(l2) \n",
    "for li in l1:\n",
    "    l2.append(li)\n",
    "\n",
    "for i in l2:\n",
    "    print (i,end=\" \")"
   ]
  },
  {
   "cell_type": "markdown",
   "metadata": {},
   "source": [
    "Q:2 Monk's best friend Micro's birthday is coming up. Micro likes Nice Strings very much, so Monk decided to gift him one. Monk is having N nice strings, so he'll choose one from those. But before he selects one, he need to know the Niceness value of all of those. Strings are arranged in an array A, and the Niceness value of string at position i is defined as the number of strings having position less than i which are lexicographicaly smaller than A[i]. Since nowadays, Monk is very busy with the Code Monk Series, he asked for your help. \n",
    "Note: Array's index starts from 1.\n",
    "\n",
    "Input:\n",
    "First line consists of a single integer denoting N.\n",
    "N lines follow each containing a string made of lower case English alphabets."
   ]
  },
  {
   "cell_type": "code",
   "execution_count": 8,
   "metadata": {},
   "outputs": [
    {
     "name": "stdout",
     "output_type": "stream",
     "text": [
      "6\n",
      "d x s r c a\n",
      "0 1 1 1 0 0 "
     ]
    }
   ],
   "source": [
    "n = int(input())\n",
    "A=[i for i in (input().split(' '))]\n",
    "o = []\n",
    "for i in range(n):\n",
    "    #A.append(input())\n",
    "    ans = 0\n",
    "    for j in range(i):\n",
    "        if A[j]<A[i]:\n",
    "            ans += 1\n",
    "    o.append(ans)\n",
    "\n",
    "for i in o: \n",
    "    print(i,end=\" \")"
   ]
  },
  {
   "cell_type": "code",
   "execution_count": null,
   "metadata": {},
   "outputs": [],
   "source": []
  }
 ],
 "metadata": {
  "kernelspec": {
   "display_name": "Python 3",
   "language": "python",
   "name": "python3"
  },
  "language_info": {
   "codemirror_mode": {
    "name": "ipython",
    "version": 3
   },
   "file_extension": ".py",
   "mimetype": "text/x-python",
   "name": "python",
   "nbconvert_exporter": "python",
   "pygments_lexer": "ipython3",
   "version": "3.7.3"
  }
 },
 "nbformat": 4,
 "nbformat_minor": 2
}
