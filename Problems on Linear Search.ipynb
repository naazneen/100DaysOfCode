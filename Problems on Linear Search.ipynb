{
 "cells": [
  {
   "cell_type": "markdown",
   "metadata": {},
   "source": [
    "# Problems on Linear Search\n"
   ]
  },
  {
   "cell_type": "markdown",
   "metadata": {},
   "source": [
    "Q1: Monk takes a walk\n",
    "Today, Monk went for a walk in a garden. There are many trees in the garden and each tree has an English alphabet on it. While Monk was walking, he noticed that all trees with vowels on it are not in good state. He decided to take care of them. So, he asked you to tell him the count of such trees in the garden. \n",
    "Note : The following letters are vowels: 'A', 'E', 'I', 'O', 'U' ,'a','e','i','o' and 'u'.\n",
    "\n",
    "Input:\n",
    "The first line consists of an integer T denoting the number of test cases.\n",
    "Each test case consists of only one string, each character of string denoting the alphabet (may be lowercase or uppercase) on a tree in the garden."
   ]
  },
  {
   "cell_type": "code",
   "execution_count": 4,
   "metadata": {},
   "outputs": [
    {
     "name": "stdout",
     "output_type": "stream",
     "text": [
      "Enter number of test cases: 1\n",
      "enter letters monk saw on tress: fege\n",
      "2\n"
     ]
    }
   ],
   "source": [
    "t = int(input('Enter number of test cases: '))\n",
    "s=[]\n",
    "for i in range(t):\n",
    "    s.append(input('enter letters monk saw on tress: '))\n",
    "for si in s:\n",
    "    tree=0\n",
    "    for i in si:\n",
    "        if i in 'aeiouAEIOU':\n",
    "            tree=tree+1\n",
    "    print (tree)"
   ]
  },
  {
   "cell_type": "code",
   "execution_count": null,
   "metadata": {},
   "outputs": [],
   "source": []
  }
 ],
 "metadata": {
  "kernelspec": {
   "display_name": "Python 3",
   "language": "python",
   "name": "python3"
  },
  "language_info": {
   "codemirror_mode": {
    "name": "ipython",
    "version": 3
   },
   "file_extension": ".py",
   "mimetype": "text/x-python",
   "name": "python",
   "nbconvert_exporter": "python",
   "pygments_lexer": "ipython3",
   "version": "3.7.3"
  }
 },
 "nbformat": 4,
 "nbformat_minor": 2
}
