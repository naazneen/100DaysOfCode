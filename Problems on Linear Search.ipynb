{
 "cells": [
  {
   "cell_type": "markdown",
   "metadata": {},
   "source": [
    "# Problems on Linear Search\n"
   ]
  },
  {
   "cell_type": "markdown",
   "metadata": {},
   "source": [
    "Q1: Monk takes a walk\n",
    "Today, Monk went for a walk in a garden. There are many trees in the garden and each tree has an English alphabet on it. While Monk was walking, he noticed that all trees with vowels on it are not in good state. He decided to take care of them. So, he asked you to tell him the count of such trees in the garden. \n",
    "Note : The following letters are vowels: 'A', 'E', 'I', 'O', 'U' ,'a','e','i','o' and 'u'.\n",
    "\n",
    "Input:\n",
    "The first line consists of an integer T denoting the number of test cases.\n",
    "Each test case consists of only one string, each character of string denoting the alphabet (may be lowercase or uppercase) on a tree in the garden."
   ]
  },
  {
   "cell_type": "code",
   "execution_count": 4,
   "metadata": {},
   "outputs": [
    {
     "name": "stdout",
     "output_type": "stream",
     "text": [
      "Enter number of test cases: 1\n",
      "enter letters monk saw on tress: fege\n",
      "2\n"
     ]
    }
   ],
   "source": [
    "t = int(input('Enter number of test cases: '))\n",
    "s=[]\n",
    "for i in range(t):\n",
    "    s.append(input('enter letters monk saw on tress: '))\n",
    "for si in s:\n",
    "    tree=0\n",
    "    for i in si:\n",
    "        if i in 'aeiouAEIOU':\n",
    "            tree=tree+1\n",
    "    print (tree)"
   ]
  },
  {
   "cell_type": "raw",
   "metadata": {},
   "source": [
    "Q.2: Wet Clothes\n",
    "We have m completely wet clothes out under sunshine waiting to become dry. we are now at second t1 and it's raining. It's going to rain again on seconds t2...tn and after each rain clothes will be completely wet again. Cloth number i needs ai seconds to become dry. We can go out and collect all dry clothes at any moment but can't do this more than g times. What is the maximum number of clothes we can collect until second tn? Note that the duration of each rain is almost zero, so we can ignore it. Also collecting clothes does not take any time from us.\n",
    "\n",
    "Input format\n",
    "\n",
    "First line of input contains three integers n,m,g (2<=n<=100,1<=m,g<=100) respectively. In the second line will be n increasing numbers denoting t1...tn (0<=t1<..tn<=10000). In the Last line will have m numbers denoting a1...am (1<=ai<=10000)."
   ]
  },
  {
   "cell_type": "code",
   "execution_count": 23,
   "metadata": {},
   "outputs": [
    {
     "name": "stdout",
     "output_type": "stream",
     "text": [
      "3 3 2\n",
      "3 5 8\n",
      "4 1 3\n",
      "2\n"
     ]
    }
   ],
   "source": [
    "input1 = input().split(' ')\n",
    "n = int(input1[0])\n",
    "m = int(input1[1])\n",
    "g = int(input1[2])\n",
    "input2 = input().split(' ')\n",
    "time= [int(x) for x in input2]\n",
    "input3 = input().split(' ')\n",
    "a = [int(y) for y in input3]\n",
    "i = 0\n",
    "\n",
    "while i < g:\n",
    "    timediff = time[i+1] - time[i]\n",
    "    for ai in a:\n",
    "        if ai<=diff:\n",
    "            a.remove(ai)\n",
    "            \n",
    "    i += 1\n",
    "    \n",
    "print (i)  \n"
   ]
  }
 ],
 "metadata": {
  "kernelspec": {
   "display_name": "Python 3",
   "language": "python",
   "name": "python3"
  },
  "language_info": {
   "codemirror_mode": {
    "name": "ipython",
    "version": 3
   },
   "file_extension": ".py",
   "mimetype": "text/x-python",
   "name": "python",
   "nbconvert_exporter": "python",
   "pygments_lexer": "ipython3",
   "version": "3.7.3"
  }
 },
 "nbformat": 4,
 "nbformat_minor": 2
}
